{
 "cells": [
  {
   "cell_type": "code",
   "execution_count": 3,
   "metadata": {},
   "outputs": [],
   "source": [
    "import nltk\n",
    "from nltk.tokenize import word_tokenize\n",
    "from nltk.stem import WordNetLemmatizer\n",
    "import pickle\n",
    "import random\n",
    "import numpy as np\n",
    "from collections import Counter"
   ]
  },
  {
   "cell_type": "code",
   "execution_count": 4,
   "metadata": {},
   "outputs": [],
   "source": [
    "lemmatizer = WordNetLemmatizer()\n",
    "hm_lines = 100000\n"
   ]
  },
  {
   "cell_type": "code",
   "execution_count": 6,
   "metadata": {},
   "outputs": [
    {
     "name": "stdout",
     "output_type": "stream",
     "text": [
      "lexicon_size : 431\n",
      "pos.txt : 5331\n",
      "neg.txt : 5331\n"
     ]
    }
   ],
   "source": [
    "# def create_lexicon(pos,neg):\n",
    "#     lexmizer = []\n",
    "#     for fi in [pos,neg]:\n",
    "#         with open(fi,'r') as f:\n",
    "#             content = f.readlines()\n",
    "#             for line in content[:hm_lines]:\n",
    "#                 total_words = word_tokenize(line.lower())\n",
    "#                 lexmizer +=list(total_words)\n",
    "                \n",
    "#             lexmizer  = [lemmatizer.lemmatize(i) for i in lexmizer]\n",
    "            \n",
    "#         l2 = []\n",
    "#         w_count = Counter(lexmizer)\n",
    "#         for w in w_count:\n",
    "#             if 2000 > w_count[w] >50 :\n",
    "#                 l2.append(w)\n",
    "#     print(f\"lexicon_size : {len(l2)}\")\n",
    "#     return l2\n",
    "\n",
    "# def create_sample_handler(sample , lexicon , classification):\n",
    "#     featureset = []\n",
    "#     with open(sample , 'r') as f:\n",
    "#         content = f.readlines()\n",
    "#         for line in content:\n",
    "#             total_word = word_tokenize(line.lower())\n",
    "#             leximize = [lemmatizer.lemmatize(i) for i in total_word]\n",
    "#             features = np.zeros(len(lexicon))\n",
    "#             for w in leximize:\n",
    "#                 if w.lower() in lexicon:\n",
    "#                     index_value = lexicon.index(w.lower())\n",
    "#                     features[index_value] += 1\n",
    "                    \n",
    "#             features = list(features)\n",
    "#             featureset.append([features , classification])\n",
    "#     print(f\"{sample} : {len(featureset)}\")\n",
    "#     return featureset\n",
    "\n",
    "# def create_data_save(pos , neg):\n",
    "#     lexicon = create_lexicon(pos,neg)\n",
    "#     features = []\n",
    "#     features += create_sample_handler(pos, lexicon , [1,0])\n",
    "#     features +=create_sample_handler(neg,lexicon , [0,1])\n",
    "    \n",
    "#     lexicon_file = open(\"lexicon.pickle\" , 'wb')\n",
    "#     pickle.dump(lexicon , lexicon_file)\n",
    "    \n",
    "#     features_file = open(\"features.pickle\" , 'wb')\n",
    "#     pickle.dump(features , features_file)\n",
    "\n",
    "# create_data_save('pos.txt' , 'neg.txt')"
   ]
  },
  {
   "cell_type": "code",
   "execution_count": 8,
   "metadata": {},
   "outputs": [
    {
     "name": "stdout",
     "output_type": "stream",
     "text": [
      "9596 9596\n",
      "1066 1066\n",
      "done.. use \"dataprocessed.pickle\" for further training purpose\n"
     ]
    }
   ],
   "source": [
    "# def create_train_test_data(test_size = 0.1):\n",
    "#     features = open('features.pickle' , 'rb')\n",
    "#     features = pickle.load(features)\n",
    "    \n",
    "#     features = np.array(features)\n",
    "    \n",
    "#     testing_size = int(len(features) * test_size)\n",
    "    \n",
    "#     train_x = list(features[:,0][:-testing_size])\n",
    "#     train_y = list(features[:,1][:-testing_size])\n",
    "    \n",
    "#     test_x = list(features[:,0][-testing_size:])\n",
    "#     test_y = list(features[:,1][-testing_size:])\n",
    "    \n",
    "#     lexi = open('dataprocessed.pickle' , 'wb')\n",
    "#     pickle.dump([train_x , train_y , test_x , test_y] , lexi)\n",
    "#     print(len(train_x) , len(train_y))\n",
    "#     print(len(test_x) , len(test_y))\n",
    "\n",
    "#     print('done.. use \"dataprocessed.pickle\" for further training purpose')\n",
    "# create_train_test_data()"
   ]
  },
  {
   "cell_type": "code",
   "execution_count": 5,
   "metadata": {},
   "outputs": [],
   "source": [
    "import pickle\n",
    "import random\n",
    "import numpy as np\n",
    "fi =  open('dataprocessed.pickle' , 'rb')\n",
    "train_x , train_y , test_x , test_y = pickle.load(fi)\n",
    "\n",
    "import torch\n",
    "import torch.nn as nn\n",
    "import torchvision\n",
    "# from torch.nn.utils.rnn import pack_padded_sequence, pad_packed_sequence\n",
    "\n",
    "# train_x , train_y , test_x , test_y = np.array(train_x) , np.array( train_y) , np.array( test_x ), np.array( test_y)\n",
    "\n",
    "# train_data = torch.utils.data.TensorDataset(torch.from_numpy(train_x) , torch.from_numpy(train_y))\n",
    "# test_data = torch.utils.data.TensorDataset(torch.from_numpy(test_x) , torch.from_numpy(test_y))\n",
    "\n",
    "# train_loader = torch.utils.data.DataLoader(train_data , shuffle=True , batch_size=100)\n",
    "# test_loader = torch.utils.data.DataLoader(train_data , shuffle=True , batch_size=100)\n",
    "\n",
    "# The size of lexicon = 431\n",
    "# ip_size = train_x[0]\n",
    "ip_size = 431\n",
    "op_size = 2\n",
    "\n",
    "class NN(nn.Module):\n",
    "    def __init__(self , ip_size , op_size , embedding_dim = 600 , hidden_size = 1000, dropout=0.3 , n_layers = 2):\n",
    "        super().__init__()\n",
    "        self.ip_szze = ip_size\n",
    "        self.op_size  =op_size\n",
    "        self.hidden_size = hidden_size\n",
    "        self.drop_prob = dropout\n",
    "        self.n_layers = 2\n",
    "        \n",
    "        \n",
    "        self.embedding = nn.Embedding(ip_size , embedding_dim)\n",
    "        self.lstm1 = nn.LSTM(embedding_dim ,self.hidden_size, n_layers  , dropout=self.drop_prob , batch_first=True)\n",
    "        self.dropout =  nn.Dropout(0.3)\n",
    "        self.fcc1 = nn.Linear(self.hidden_size  , int(self.hidden_size / 2))\n",
    "        self.fcc2 = nn.Linear(int(self.hidden_size / 2) , op_size)\n",
    "        self.relu = nn.Softmax()\n",
    "        \n",
    "    def forward(self , input ,hidden):\n",
    "        input = input.t()\n",
    "        batch_size = input.size(0)        \n",
    "        input = input.long()        \n",
    "        embedded = self.embedding(input) \n",
    "        lstm_out ,hidden = self.lstm1(embedded , hidden)  \n",
    "        \n",
    "        out = self.dropout(lstm_out[-1])\n",
    "        out = out.view(-1 , self.hidden_size)\n",
    "        \n",
    "        out = self.fcc1(out)\n",
    "\n",
    "        x = self.relu(out)\n",
    "        x = self.fcc2(x)  \n",
    "        return x ,hidden\n",
    "    \n",
    "    def init_hidden(self , batch_size):\n",
    "        weight = next(self.parameters()).data\n",
    "        hidden = (weight.new(self.n_layers , batch_size , self.hidden_size).zero_() ,\n",
    "                  weight.new(self.n_layers, batch_size, self.hidden_size).zero_())\n",
    "        return hidden\n",
    "    \n",
    "device = torch.device(\"cuda\" if torch.cuda.is_available else \"cpu\")\n",
    "model = NN(ip_size , op_size)\n",
    "model.to(device)\n",
    "loss_function = nn.MSELoss()\n",
    "optim = torch.optim.Adam(model.parameters() , lr=0.01)"
   ]
  },
  {
   "cell_type": "code",
   "execution_count": 2,
   "metadata": {},
   "outputs": [],
   "source": [
    "# epochs = 5\n",
    "# for epoch in range(epochs):\n",
    "#     h = model.init_hidden(batch_size=ip_size)\n",
    "\n",
    "#     for i , batch in enumerate(train_loader):\n",
    "#         model.zero_grad\n",
    "\n",
    "#         text , label = batch\n",
    "#         text = text.to(device)\n",
    "#         text = text.float()\n",
    "#         label = label.float()\n",
    "#         label = label.to(device)\n",
    "#         h = tuple([each.data for each in h])\n",
    "\n",
    "#         output , h = model(text, h)\n",
    "\n",
    "#         loss = loss_function(output, label)\n",
    "#         loss.backward()\n",
    "#         optim.step()\n",
    "#     if(epoch+1) % 2 == 0:\n",
    "#         print(f'Epoch- {epoch + 1}  : loss- {loss.squeeze()}')"
   ]
  },
  {
   "cell_type": "code",
   "execution_count": 1,
   "metadata": {},
   "outputs": [],
   "source": [
    "import torch.nn as nn"
   ]
  },
  {
   "cell_type": "code",
   "execution_count": 6,
   "metadata": {},
   "outputs": [
    {
     "data": {
      "text/plain": [
       "NN(\n",
       "  (embedding): Embedding(431, 600)\n",
       "  (lstm1): LSTM(600, 1000, num_layers=2, batch_first=True, dropout=0.3)\n",
       "  (dropout): Dropout(p=0.3)\n",
       "  (fcc1): Linear(in_features=1000, out_features=500, bias=True)\n",
       "  (fcc2): Linear(in_features=500, out_features=2, bias=True)\n",
       "  (relu): Softmax()\n",
       ")"
      ]
     },
     "execution_count": 6,
     "metadata": {},
     "output_type": "execute_result"
    }
   ],
   "source": [
    "model"
   ]
  },
  {
   "cell_type": "code",
   "execution_count": 55,
   "metadata": {},
   "outputs": [
    {
     "ename": "RuntimeError",
     "evalue": "Expected hidden[0] size (2, 431, 1400), got (100, 700)",
     "output_type": "error",
     "traceback": [
      "\u001b[0;31m---------------------------------------------------------------------------\u001b[0m",
      "\u001b[0;31mRuntimeError\u001b[0m                              Traceback (most recent call last)",
      "\u001b[0;32m<ipython-input-55-4cf6c38f254b>\u001b[0m in \u001b[0;36m<module>\u001b[0;34m()\u001b[0m\n\u001b[1;32m      9\u001b[0m         \u001b[0mh\u001b[0m \u001b[0;34m=\u001b[0m \u001b[0mtuple\u001b[0m\u001b[0;34m(\u001b[0m\u001b[0;34m[\u001b[0m\u001b[0meach\u001b[0m\u001b[0;34m.\u001b[0m\u001b[0mdata\u001b[0m \u001b[0;32mfor\u001b[0m \u001b[0meach\u001b[0m \u001b[0;32min\u001b[0m \u001b[0mh\u001b[0m\u001b[0;34m]\u001b[0m\u001b[0;34m)\u001b[0m\u001b[0;34m\u001b[0m\u001b[0;34m\u001b[0m\u001b[0m\n\u001b[1;32m     10\u001b[0m \u001b[0;31m#         h = h.to(device)\u001b[0m\u001b[0;34m\u001b[0m\u001b[0;34m\u001b[0m\u001b[0;34m\u001b[0m\u001b[0m\n\u001b[0;32m---> 11\u001b[0;31m         \u001b[0moutput\u001b[0m \u001b[0;34m,\u001b[0m \u001b[0mh\u001b[0m \u001b[0;34m=\u001b[0m \u001b[0mmodel\u001b[0m\u001b[0;34m(\u001b[0m\u001b[0mtext\u001b[0m\u001b[0;34m.\u001b[0m\u001b[0mlong\u001b[0m\u001b[0;34m(\u001b[0m\u001b[0;34m)\u001b[0m \u001b[0;34m,\u001b[0m \u001b[0mh\u001b[0m\u001b[0;34m)\u001b[0m\u001b[0;34m\u001b[0m\u001b[0;34m\u001b[0m\u001b[0m\n\u001b[0m\u001b[1;32m     12\u001b[0m         \u001b[0mloss\u001b[0m \u001b[0;34m=\u001b[0m \u001b[0mloss_function\u001b[0m\u001b[0;34m(\u001b[0m\u001b[0moutput\u001b[0m \u001b[0;34m,\u001b[0m \u001b[0mlabel\u001b[0m\u001b[0;34m)\u001b[0m\u001b[0;34m\u001b[0m\u001b[0;34m\u001b[0m\u001b[0m\n\u001b[1;32m     13\u001b[0m         \u001b[0moptim\u001b[0m\u001b[0;34m.\u001b[0m\u001b[0mzero_grad\u001b[0m\u001b[0;34m\u001b[0m\u001b[0;34m\u001b[0m\u001b[0m\n",
      "\u001b[0;32m/usr/local/lib/python3.6/dist-packages/torch/nn/modules/module.py\u001b[0m in \u001b[0;36m__call__\u001b[0;34m(self, *input, **kwargs)\u001b[0m\n\u001b[1;32m    487\u001b[0m             \u001b[0mresult\u001b[0m \u001b[0;34m=\u001b[0m \u001b[0mself\u001b[0m\u001b[0;34m.\u001b[0m\u001b[0m_slow_forward\u001b[0m\u001b[0;34m(\u001b[0m\u001b[0;34m*\u001b[0m\u001b[0minput\u001b[0m\u001b[0;34m,\u001b[0m \u001b[0;34m**\u001b[0m\u001b[0mkwargs\u001b[0m\u001b[0;34m)\u001b[0m\u001b[0;34m\u001b[0m\u001b[0;34m\u001b[0m\u001b[0m\n\u001b[1;32m    488\u001b[0m         \u001b[0;32melse\u001b[0m\u001b[0;34m:\u001b[0m\u001b[0;34m\u001b[0m\u001b[0;34m\u001b[0m\u001b[0m\n\u001b[0;32m--> 489\u001b[0;31m             \u001b[0mresult\u001b[0m \u001b[0;34m=\u001b[0m \u001b[0mself\u001b[0m\u001b[0;34m.\u001b[0m\u001b[0mforward\u001b[0m\u001b[0;34m(\u001b[0m\u001b[0;34m*\u001b[0m\u001b[0minput\u001b[0m\u001b[0;34m,\u001b[0m \u001b[0;34m**\u001b[0m\u001b[0mkwargs\u001b[0m\u001b[0;34m)\u001b[0m\u001b[0;34m\u001b[0m\u001b[0;34m\u001b[0m\u001b[0m\n\u001b[0m\u001b[1;32m    490\u001b[0m         \u001b[0;32mfor\u001b[0m \u001b[0mhook\u001b[0m \u001b[0;32min\u001b[0m \u001b[0mself\u001b[0m\u001b[0;34m.\u001b[0m\u001b[0m_forward_hooks\u001b[0m\u001b[0;34m.\u001b[0m\u001b[0mvalues\u001b[0m\u001b[0;34m(\u001b[0m\u001b[0;34m)\u001b[0m\u001b[0;34m:\u001b[0m\u001b[0;34m\u001b[0m\u001b[0;34m\u001b[0m\u001b[0m\n\u001b[1;32m    491\u001b[0m             \u001b[0mhook_result\u001b[0m \u001b[0;34m=\u001b[0m \u001b[0mhook\u001b[0m\u001b[0;34m(\u001b[0m\u001b[0mself\u001b[0m\u001b[0;34m,\u001b[0m \u001b[0minput\u001b[0m\u001b[0;34m,\u001b[0m \u001b[0mresult\u001b[0m\u001b[0;34m)\u001b[0m\u001b[0;34m\u001b[0m\u001b[0;34m\u001b[0m\u001b[0m\n",
      "\u001b[0;32m<ipython-input-51-be599bde8554>\u001b[0m in \u001b[0;36mforward\u001b[0;34m(self, input, hidden)\u001b[0m\n\u001b[1;32m     21\u001b[0m \u001b[0;34m\u001b[0m\u001b[0m\n\u001b[1;32m     22\u001b[0m         \u001b[0membedded\u001b[0m \u001b[0;34m=\u001b[0m \u001b[0mself\u001b[0m\u001b[0;34m.\u001b[0m\u001b[0membedding\u001b[0m\u001b[0;34m(\u001b[0m\u001b[0minput\u001b[0m\u001b[0;34m)\u001b[0m\u001b[0;34m\u001b[0m\u001b[0;34m\u001b[0m\u001b[0m\n\u001b[0;32m---> 23\u001b[0;31m         \u001b[0mlstm_out\u001b[0m \u001b[0;34m,\u001b[0m\u001b[0mhidden\u001b[0m \u001b[0;34m=\u001b[0m \u001b[0mself\u001b[0m\u001b[0;34m.\u001b[0m\u001b[0mlstm1\u001b[0m\u001b[0;34m(\u001b[0m\u001b[0membedded\u001b[0m \u001b[0;34m,\u001b[0m \u001b[0mhidden\u001b[0m\u001b[0;34m)\u001b[0m\u001b[0;34m\u001b[0m\u001b[0;34m\u001b[0m\u001b[0m\n\u001b[0m\u001b[1;32m     24\u001b[0m         \u001b[0mlstm_out\u001b[0m \u001b[0;34m=\u001b[0m \u001b[0mlstm_out\u001b[0m\u001b[0;34m.\u001b[0m\u001b[0mcontiguous\u001b[0m\u001b[0;34m(\u001b[0m\u001b[0;34m)\u001b[0m\u001b[0;34m.\u001b[0m\u001b[0mview\u001b[0m\u001b[0;34m(\u001b[0m\u001b[0;34m-\u001b[0m\u001b[0;36m1\u001b[0m\u001b[0;34m,\u001b[0m \u001b[0mself\u001b[0m\u001b[0;34m.\u001b[0m\u001b[0mhidden_size\u001b[0m\u001b[0;34m)\u001b[0m\u001b[0;34m\u001b[0m\u001b[0;34m\u001b[0m\u001b[0m\n\u001b[1;32m     25\u001b[0m         \u001b[0mprint\u001b[0m\u001b[0;34m(\u001b[0m\u001b[0mlstm_out\u001b[0m\u001b[0;34m.\u001b[0m\u001b[0msize\u001b[0m\u001b[0;34m)\u001b[0m\u001b[0;34m\u001b[0m\u001b[0;34m\u001b[0m\u001b[0m\n",
      "\u001b[0;32m/usr/local/lib/python3.6/dist-packages/torch/nn/modules/module.py\u001b[0m in \u001b[0;36m__call__\u001b[0;34m(self, *input, **kwargs)\u001b[0m\n\u001b[1;32m    487\u001b[0m             \u001b[0mresult\u001b[0m \u001b[0;34m=\u001b[0m \u001b[0mself\u001b[0m\u001b[0;34m.\u001b[0m\u001b[0m_slow_forward\u001b[0m\u001b[0;34m(\u001b[0m\u001b[0;34m*\u001b[0m\u001b[0minput\u001b[0m\u001b[0;34m,\u001b[0m \u001b[0;34m**\u001b[0m\u001b[0mkwargs\u001b[0m\u001b[0;34m)\u001b[0m\u001b[0;34m\u001b[0m\u001b[0;34m\u001b[0m\u001b[0m\n\u001b[1;32m    488\u001b[0m         \u001b[0;32melse\u001b[0m\u001b[0;34m:\u001b[0m\u001b[0;34m\u001b[0m\u001b[0;34m\u001b[0m\u001b[0m\n\u001b[0;32m--> 489\u001b[0;31m             \u001b[0mresult\u001b[0m \u001b[0;34m=\u001b[0m \u001b[0mself\u001b[0m\u001b[0;34m.\u001b[0m\u001b[0mforward\u001b[0m\u001b[0;34m(\u001b[0m\u001b[0;34m*\u001b[0m\u001b[0minput\u001b[0m\u001b[0;34m,\u001b[0m \u001b[0;34m**\u001b[0m\u001b[0mkwargs\u001b[0m\u001b[0;34m)\u001b[0m\u001b[0;34m\u001b[0m\u001b[0;34m\u001b[0m\u001b[0m\n\u001b[0m\u001b[1;32m    490\u001b[0m         \u001b[0;32mfor\u001b[0m \u001b[0mhook\u001b[0m \u001b[0;32min\u001b[0m \u001b[0mself\u001b[0m\u001b[0;34m.\u001b[0m\u001b[0m_forward_hooks\u001b[0m\u001b[0;34m.\u001b[0m\u001b[0mvalues\u001b[0m\u001b[0;34m(\u001b[0m\u001b[0;34m)\u001b[0m\u001b[0;34m:\u001b[0m\u001b[0;34m\u001b[0m\u001b[0;34m\u001b[0m\u001b[0m\n\u001b[1;32m    491\u001b[0m             \u001b[0mhook_result\u001b[0m \u001b[0;34m=\u001b[0m \u001b[0mhook\u001b[0m\u001b[0;34m(\u001b[0m\u001b[0mself\u001b[0m\u001b[0;34m,\u001b[0m \u001b[0minput\u001b[0m\u001b[0;34m,\u001b[0m \u001b[0mresult\u001b[0m\u001b[0;34m)\u001b[0m\u001b[0;34m\u001b[0m\u001b[0;34m\u001b[0m\u001b[0m\n",
      "\u001b[0;32m/usr/local/lib/python3.6/dist-packages/torch/nn/modules/rnn.py\u001b[0m in \u001b[0;36mforward\u001b[0;34m(self, input, hx)\u001b[0m\n\u001b[1;32m    173\u001b[0m                 \u001b[0mhx\u001b[0m \u001b[0;34m=\u001b[0m \u001b[0;34m(\u001b[0m\u001b[0mhx\u001b[0m\u001b[0;34m,\u001b[0m \u001b[0mhx\u001b[0m\u001b[0;34m)\u001b[0m\u001b[0;34m\u001b[0m\u001b[0;34m\u001b[0m\u001b[0m\n\u001b[1;32m    174\u001b[0m \u001b[0;34m\u001b[0m\u001b[0m\n\u001b[0;32m--> 175\u001b[0;31m         \u001b[0mself\u001b[0m\u001b[0;34m.\u001b[0m\u001b[0mcheck_forward_args\u001b[0m\u001b[0;34m(\u001b[0m\u001b[0minput\u001b[0m\u001b[0;34m,\u001b[0m \u001b[0mhx\u001b[0m\u001b[0;34m,\u001b[0m \u001b[0mbatch_sizes\u001b[0m\u001b[0;34m)\u001b[0m\u001b[0;34m\u001b[0m\u001b[0;34m\u001b[0m\u001b[0m\n\u001b[0m\u001b[1;32m    176\u001b[0m         \u001b[0m_impl\u001b[0m \u001b[0;34m=\u001b[0m \u001b[0m_rnn_impls\u001b[0m\u001b[0;34m[\u001b[0m\u001b[0mself\u001b[0m\u001b[0;34m.\u001b[0m\u001b[0mmode\u001b[0m\u001b[0;34m]\u001b[0m\u001b[0;34m\u001b[0m\u001b[0;34m\u001b[0m\u001b[0m\n\u001b[1;32m    177\u001b[0m         \u001b[0;32mif\u001b[0m \u001b[0mbatch_sizes\u001b[0m \u001b[0;32mis\u001b[0m \u001b[0;32mNone\u001b[0m\u001b[0;34m:\u001b[0m\u001b[0;34m\u001b[0m\u001b[0;34m\u001b[0m\u001b[0m\n",
      "\u001b[0;32m/usr/local/lib/python3.6/dist-packages/torch/nn/modules/rnn.py\u001b[0m in \u001b[0;36mcheck_forward_args\u001b[0;34m(self, input, hidden, batch_sizes)\u001b[0m\n\u001b[1;32m    150\u001b[0m         \u001b[0;32mif\u001b[0m \u001b[0mself\u001b[0m\u001b[0;34m.\u001b[0m\u001b[0mmode\u001b[0m \u001b[0;34m==\u001b[0m \u001b[0;34m'LSTM'\u001b[0m\u001b[0;34m:\u001b[0m\u001b[0;34m\u001b[0m\u001b[0;34m\u001b[0m\u001b[0m\n\u001b[1;32m    151\u001b[0m             check_hidden_size(hidden[0], expected_hidden_size,\n\u001b[0;32m--> 152\u001b[0;31m                               'Expected hidden[0] size {}, got {}')\n\u001b[0m\u001b[1;32m    153\u001b[0m             check_hidden_size(hidden[1], expected_hidden_size,\n\u001b[1;32m    154\u001b[0m                               'Expected hidden[1] size {}, got {}')\n",
      "\u001b[0;32m/usr/local/lib/python3.6/dist-packages/torch/nn/modules/rnn.py\u001b[0m in \u001b[0;36mcheck_hidden_size\u001b[0;34m(hx, expected_hidden_size, msg)\u001b[0m\n\u001b[1;32m    146\u001b[0m         \u001b[0;32mdef\u001b[0m \u001b[0mcheck_hidden_size\u001b[0m\u001b[0;34m(\u001b[0m\u001b[0mhx\u001b[0m\u001b[0;34m,\u001b[0m \u001b[0mexpected_hidden_size\u001b[0m\u001b[0;34m,\u001b[0m \u001b[0mmsg\u001b[0m\u001b[0;34m=\u001b[0m\u001b[0;34m'Expected hidden size {}, got {}'\u001b[0m\u001b[0;34m)\u001b[0m\u001b[0;34m:\u001b[0m\u001b[0;34m\u001b[0m\u001b[0;34m\u001b[0m\u001b[0m\n\u001b[1;32m    147\u001b[0m             \u001b[0;32mif\u001b[0m \u001b[0mtuple\u001b[0m\u001b[0;34m(\u001b[0m\u001b[0mhx\u001b[0m\u001b[0;34m.\u001b[0m\u001b[0msize\u001b[0m\u001b[0;34m(\u001b[0m\u001b[0;34m)\u001b[0m\u001b[0;34m)\u001b[0m \u001b[0;34m!=\u001b[0m \u001b[0mexpected_hidden_size\u001b[0m\u001b[0;34m:\u001b[0m\u001b[0;34m\u001b[0m\u001b[0;34m\u001b[0m\u001b[0m\n\u001b[0;32m--> 148\u001b[0;31m                 \u001b[0;32mraise\u001b[0m \u001b[0mRuntimeError\u001b[0m\u001b[0;34m(\u001b[0m\u001b[0mmsg\u001b[0m\u001b[0;34m.\u001b[0m\u001b[0mformat\u001b[0m\u001b[0;34m(\u001b[0m\u001b[0mexpected_hidden_size\u001b[0m\u001b[0;34m,\u001b[0m \u001b[0mtuple\u001b[0m\u001b[0;34m(\u001b[0m\u001b[0mhx\u001b[0m\u001b[0;34m.\u001b[0m\u001b[0msize\u001b[0m\u001b[0;34m(\u001b[0m\u001b[0;34m)\u001b[0m\u001b[0;34m)\u001b[0m\u001b[0;34m)\u001b[0m\u001b[0;34m)\u001b[0m\u001b[0;34m\u001b[0m\u001b[0;34m\u001b[0m\u001b[0m\n\u001b[0m\u001b[1;32m    149\u001b[0m \u001b[0;34m\u001b[0m\u001b[0m\n\u001b[1;32m    150\u001b[0m         \u001b[0;32mif\u001b[0m \u001b[0mself\u001b[0m\u001b[0;34m.\u001b[0m\u001b[0mmode\u001b[0m \u001b[0;34m==\u001b[0m \u001b[0;34m'LSTM'\u001b[0m\u001b[0;34m:\u001b[0m\u001b[0;34m\u001b[0m\u001b[0;34m\u001b[0m\u001b[0m\n",
      "\u001b[0;31mRuntimeError\u001b[0m: Expected hidden[0] size (2, 431, 1400), got (100, 700)"
     ]
    }
   ],
   "source": [
    "# string = label = None\n",
    "# size = 30\n",
    "# total_correct = total_count = 0\n",
    "# prect_len = 0\n",
    "# for i , (string , labels) in enumerate(test_loader):\n",
    "\n",
    "#     string = string.to(device)\n",
    "#     label = labels.to(device)\n",
    "#     label = label.long()\n",
    "#     string = string.float()\n",
    "\n",
    "#     output = model(string)\n",
    "\n",
    "#     _ , predicted = torch.max(output.data , 1)\n",
    "\n",
    "#     predicted = predicted.cpu()\n",
    "#     label = label.cpu()\n",
    "#     prect_len += len(predicted)\n",
    "#     total_count +=label.size(0)\n",
    "#     total_correct += (predicted == label[0][i]).sum().item()\n",
    "    \n",
    "# print(f\"Accuray {100 * total_correct / total_count} , correct:{total_correct} , total={total_count} :: Trained with epoch '5'\")\n",
    "# print(prect_len)"
   ]
  },
  {
   "cell_type": "code",
   "execution_count": 8,
   "metadata": {},
   "outputs": [],
   "source": [
    "model_loaded = torch.load(\"lstmmodel.pt\")"
   ]
  },
  {
   "cell_type": "code",
   "execution_count": 9,
   "metadata": {},
   "outputs": [
    {
     "data": {
      "text/plain": [
       "NN(\n",
       "  (embedding): Embedding(431, 600)\n",
       "  (lstm1): LSTM(600, 1000, num_layers=2, batch_first=True, dropout=0.3)\n",
       "  (dropout): Dropout(p=0.3)\n",
       "  (fcc1): Linear(in_features=1000, out_features=500, bias=True)\n",
       "  (fcc2): Linear(in_features=500, out_features=2, bias=True)\n",
       "  (relu): Softmax()\n",
       ")"
      ]
     },
     "execution_count": 9,
     "metadata": {},
     "output_type": "execute_result"
    }
   ],
   "source": [
    "model_loaded"
   ]
  },
  {
   "cell_type": "code",
   "execution_count": 10,
   "metadata": {},
   "outputs": [],
   "source": [
    "\n",
    "def read_lexicon():\n",
    "    global lexicon \n",
    "\n",
    "    lexi = open(\"lexicon.pickle\" , 'rb')\n",
    "    lexicon = pickle.load(lexi)\n",
    "    \n",
    "    return lexicon\n"
   ]
  },
  {
   "cell_type": "code",
   "execution_count": 14,
   "metadata": {},
   "outputs": [],
   "source": [
    "ip_size = 431\n",
    "def user_test(sample , lexicon):\n",
    "    \n",
    "    c_w = word_tokenize(sample.lower())\n",
    "    c_w = [lemmatizer.lemmatize(i) for i in c_w]\n",
    "    samples = np.zeros(len(lexicon))\n",
    "    for  word in c_w:\n",
    "        if word.lower() in lexicon:\n",
    "            index_value = lexicon.index(word.lower())\n",
    "            samples[index_value] += 1\n",
    "            \n",
    "    samples = list(samples)  \n",
    "    output = []\n",
    "    output.append(samples)\n",
    "    output = np.array(output)\n",
    "    return output\n",
    "\n",
    "def predict_data(data ):\n",
    "    lexicon = read_lexicon()\n",
    "    data  = user_test(data , lexicon)\n",
    "    data = torch.from_numpy(data)\n",
    "    device = torch.device(\"cuda\" if torch.cuda.is_available() else \"cpu\")\n",
    "    data = data.to(device)\n",
    "    data = data.float()\n",
    "    hidden = model_loaded.init_hidden(batch_size=ip_size)\n",
    "    predict , hidden = model_loaded(data , hidden)\n",
    "    print(predict[0])\n",
    "    prediction = torch.max(predict , 1) [1]\n",
    "    result = prediction.cpu()\n",
    "    result  = result.numpy()\n",
    "    if int(result) == 0:\n",
    "        print(\"--------------------------\")\n",
    "        print(\"Positive\")\n",
    "        print(\"--------------------------\")\n",
    "    elif int(result) == 1:\n",
    "        print(\"--------------------------\")\n",
    "        print(\"Negative\")\n",
    "        print(\"--------------------------\")\n",
    "    else:\n",
    "        print(int(result) , \"Got this value\")\n",
    "    "
   ]
  },
  {
   "cell_type": "code",
   "execution_count": 23,
   "metadata": {},
   "outputs": [
    {
     "name": "stdin",
     "output_type": "stream",
     "text": [
      " Good but not satisfied with the speed\n"
     ]
    },
    {
     "name": "stdout",
     "output_type": "stream",
     "text": [
      "tensor([0.7065, 2.4867], device='cuda:0', grad_fn=<SelectBackward>)\n",
      "--------------------------\n",
      "Negative\n",
      "--------------------------\n"
     ]
    },
    {
     "name": "stderr",
     "output_type": "stream",
     "text": [
      "/usr/lib/python3/dist-packages/ipykernel_launcher.py:54: UserWarning: Implicit dimension choice for softmax has been deprecated. Change the call to include dim=X as an argument.\n"
     ]
    }
   ],
   "source": [
    "data = input()\n",
    "result =  predict_data(data)\n"
   ]
  },
  {
   "cell_type": "code",
   "execution_count": null,
   "metadata": {},
   "outputs": [],
   "source": []
  },
  {
   "cell_type": "code",
   "execution_count": null,
   "metadata": {},
   "outputs": [],
   "source": []
  },
  {
   "cell_type": "code",
   "execution_count": null,
   "metadata": {},
   "outputs": [],
   "source": []
  }
 ],
 "metadata": {
  "kernelspec": {
   "display_name": "Python 3",
   "language": "python",
   "name": "python3"
  },
  "language_info": {
   "codemirror_mode": {
    "name": "ipython",
    "version": 3
   },
   "file_extension": ".py",
   "mimetype": "text/x-python",
   "name": "python",
   "nbconvert_exporter": "python",
   "pygments_lexer": "ipython3",
   "version": "3.6.8rc1"
  }
 },
 "nbformat": 4,
 "nbformat_minor": 2
}
